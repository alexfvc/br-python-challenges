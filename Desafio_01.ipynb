{
 "cells": [
  {
   "cell_type": "markdown",
   "metadata": {
    "colab_type": "text",
    "id": "view-in-github"
   },
   "source": [
    "![](https://i.imgur.com/YX6UATs.png)"
   ]
  },
  {
   "cell_type": "markdown",
   "metadata": {
    "colab_type": "text",
    "id": "SbLLE9q1eldC"
   },
   "source": [
    "### Desafio 1\n",
    "\n",
    "Escreva um programa em Python para contabilizar a quantidade de ocorrências de cada palavra."
   ]
  },
  {
   "cell_type": "code",
   "execution_count": 22,
   "metadata": {
    "colab": {},
    "colab_type": "code",
    "id": "WhtbdwFseldD"
   },
   "outputs": [],
   "source": [
    "palavras = [\n",
    "   'red', 'green', 'black', 'pink', 'black', 'white', 'black', 'eyes',\n",
    "   'white', 'black', 'orange', 'pink', 'pink', 'red', 'red', 'white', 'orange',\n",
    "   'white', \"black\", 'pink', 'green', 'green', 'pink', 'green', 'pink',\n",
    "   'white', 'orange', \"orange\", 'red'\n",
    "]\n",
    "\n",
    "\n",
    "\n",
    "# Seu código"
   ]
  },
  {
   "cell_type": "code",
   "execution_count": 23,
   "metadata": {
    "colab": {},
    "colab_type": "code",
    "id": "M58o1U9KfAxa"
   },
   "outputs": [
    {
     "name": "stdout",
     "output_type": "stream",
     "text": [
      "['black', 'black', 'black', 'black', 'black', 'eyes', 'green', 'green', 'green', 'green', 'orange', 'orange', 'orange', 'orange', 'pink', 'pink', 'pink', 'pink', 'pink', 'pink', 'red', 'red', 'red', 'red', 'white', 'white', 'white', 'white', 'white']\n",
      "{'pink', 'green', 'white', 'orange', 'black', 'red', 'eyes'}\n"
     ]
    }
   ],
   "source": [
    "palavras.sort()\n",
    "print(palavras)\n",
    "palavras_unicas = set(palavras)\n",
    "print(palavras_unicas)"
   ]
  },
  {
   "cell_type": "code",
   "execution_count": 24,
   "metadata": {},
   "outputs": [
    {
     "data": {
      "text/plain": [
       "['black',\n",
       " 'black',\n",
       " 'black',\n",
       " 'black',\n",
       " 'black',\n",
       " 'eyes',\n",
       " 'green',\n",
       " 'green',\n",
       " 'green',\n",
       " 'green',\n",
       " 'orange',\n",
       " 'orange',\n",
       " 'orange',\n",
       " 'orange',\n",
       " 'pink',\n",
       " 'pink',\n",
       " 'pink',\n",
       " 'pink',\n",
       " 'pink',\n",
       " 'pink',\n",
       " 'red',\n",
       " 'red',\n",
       " 'red',\n",
       " 'red',\n",
       " 'white',\n",
       " 'white',\n",
       " 'white',\n",
       " 'white',\n",
       " 'white']"
      ]
     },
     "execution_count": 24,
     "metadata": {},
     "output_type": "execute_result"
    }
   ],
   "source": [
    "list(palavras_unicas)\n",
    "list(palavras)"
   ]
  },
  {
   "cell_type": "code",
   "execution_count": 25,
   "metadata": {},
   "outputs": [
    {
     "name": "stdout",
     "output_type": "stream",
     "text": [
      "[['black', 5], ['eyes', 1], ['green', 4], ['orange', 4], ['pink', 6], ['red', 4], ['white', 5]]\n"
     ]
    }
   ],
   "source": [
    "lista = [] \n",
    "for palavras_unicas in palavras:\n",
    "    repeticoes = palavras.count(palavras_unicas)\n",
    "    if [palavras_unicas, repeticoes] not in lista:\n",
    "        lista.append([palavras_unicas, repeticoes])    \n",
    "print(lista)\n"
   ]
  },
  {
   "cell_type": "code",
   "execution_count": null,
   "metadata": {},
   "outputs": [],
   "source": []
  },
  {
   "cell_type": "code",
   "execution_count": null,
   "metadata": {},
   "outputs": [],
   "source": []
  }
 ],
 "metadata": {
  "anaconda-cloud": {},
  "colab": {
   "include_colab_link": true,
   "name": "Desafio 1.ipynb",
   "provenance": []
  },
  "kernelspec": {
   "display_name": "Python 3 (ipykernel)",
   "language": "python",
   "name": "python3"
  },
  "language_info": {
   "codemirror_mode": {
    "name": "ipython",
    "version": 3
   },
   "file_extension": ".py",
   "mimetype": "text/x-python",
   "name": "python",
   "nbconvert_exporter": "python",
   "pygments_lexer": "ipython3",
   "version": "3.10.4"
  }
 },
 "nbformat": 4,
 "nbformat_minor": 1
}
