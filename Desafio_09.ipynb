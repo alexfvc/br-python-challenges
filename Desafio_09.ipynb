{
 "cells": [
  {
   "cell_type": "markdown",
   "metadata": {
    "colab_type": "text",
    "id": "view-in-github"
   },
   "source": [
    "![](https://i.imgur.com/YX6UATs.png)"
   ]
  },
  {
   "cell_type": "markdown",
   "metadata": {
    "colab_type": "text",
    "id": "HpvTpUBGf6Jr"
   },
   "source": [
    "### Desafio 9\n",
    "\n",
    "Escreva uma função que retorne a soma dos múltiplos de 3 e 5 entre 0 e um número limite, que vai ser utilizado como parâmetro. \\\n",
    "Por exemplo, se o limite for 20, ele retornará a soma de 3, 5, 6, 9, 10, 12, 15, 18, 20."
   ]
  },
  {
   "cell_type": "code",
   "execution_count": 57,
   "metadata": {
    "colab": {},
    "colab_type": "code",
    "id": "195C6bw-f6Js"
   },
   "outputs": [
    {
     "name": "stdout",
     "output_type": "stream",
     "text": [
      "qual o valor limit: 20\n",
      "3 3\n",
      "5 8\n",
      "6 14\n",
      "9 23\n",
      "10 33\n",
      "12 45\n",
      "15 60\n",
      "18 78\n",
      "20 98\n"
     ]
    }
   ],
   "source": [
    "limite = int(input(\"qual o valor limit: \"))\n",
    "\n",
    "x = 1\n",
    "soma = 0\n",
    "\n",
    "for i in range(1,limite + 1):\n",
    "    if i % 3 == 0 or i % 5 == 0:\n",
    "        soma = soma + i\n",
    "        \n",
    "        print(i, soma)\n",
    "     \n"
   ]
  },
  {
   "cell_type": "code",
   "execution_count": 0,
   "metadata": {
    "colab": {},
    "colab_type": "code",
    "id": "a_6aqcKp6wrN"
   },
   "outputs": [],
   "source": []
  }
 ],
 "metadata": {
  "anaconda-cloud": {},
  "colab": {
   "include_colab_link": true,
   "name": "Desafio 9.ipynb",
   "provenance": []
  },
  "kernelspec": {
   "display_name": "Python 3 (ipykernel)",
   "language": "python",
   "name": "python3"
  },
  "language_info": {
   "codemirror_mode": {
    "name": "ipython",
    "version": 3
   },
   "file_extension": ".py",
   "mimetype": "text/x-python",
   "name": "python",
   "nbconvert_exporter": "python",
   "pygments_lexer": "ipython3",
   "version": "3.10.4"
  }
 },
 "nbformat": 4,
 "nbformat_minor": 1
}
